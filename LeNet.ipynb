{
  "nbformat": 4,
  "nbformat_minor": 0,
  "metadata": {
    "colab": {
      "name": "LeNet.ipynb",
      "provenance": [],
      "collapsed_sections": []
    },
    "kernelspec": {
      "name": "python3",
      "display_name": "Python 3"
    },
    "language_info": {
      "name": "python"
    },
    "accelerator": "GPU"
  },
  "cells": [
    {
      "cell_type": "markdown",
      "metadata": {
        "id": "wCGN8W7HKKhz"
      },
      "source": [
        "# CNN for eminst letter recognition\n",
        "# Author: Christopher Holzweber\n",
        "\n",
        "Sources#\n",
        "Backpropagation Applied to Handwritten Zip Code Recognition https://doi.org/10.1162/neco.1989.1.4.541\n",
        "\n",
        "Eminst Dataset: https://www.nist.gov/itl/products-and-services/emnist-dataset\n"
      ]
    },
    {
      "cell_type": "code",
      "metadata": {
        "id": "hH0UbbDKKLQW"
      },
      "source": [
        "import tensorflow as tf\n",
        "from tensorflow.keras import datasets, layers, models\n",
        "from tensorflow.keras.datasets import mnist\n",
        "import matplotlib.pyplot as plt\n",
        "import numpy as np\n",
        "import pandas as pd\n",
        "from keras.utils import np_utils"
      ],
      "execution_count": 1,
      "outputs": []
    },
    {
      "cell_type": "markdown",
      "metadata": {
        "id": "w_a_SESRaErV"
      },
      "source": [
        "# Neuer Abschnitt"
      ]
    },
    {
      "cell_type": "code",
      "metadata": {
        "id": "YYuCTwU4Ca_2"
      },
      "source": [
        "def rotate(image):\n",
        "    image = image.reshape([28, 28])\n",
        "    image = np.fliplr(image)\n",
        "    image = np.rot90(image)\n",
        "    return image\n",
        "def readTransformGet(dataset):\n",
        "    df = pd.read_csv(dataset)\n",
        "    X = df.iloc[:,1:]\n",
        "    y = df.iloc[:,0]\n",
        "    y = np.asarray(y) - 1\n",
        "    X = np.asarray(X)\n",
        "    X = X.astype('float32')\n",
        "    X = np.apply_along_axis(rotate, 1, X)\n",
        "    X /= 255\n",
        "    plt.imshow(X[0], cmap=plt.get_cmap('gray'))\n",
        "    #unique_items, num_classes = np.unique(y, return_counts=True)\n",
        "    # reshape for CNN\n",
        "    X = X.reshape(-1,28,28,1)\n",
        "    #y = np_utils.to_categorical(y, num_classes)\n",
        "    return X, y"
      ],
      "execution_count": 3,
      "outputs": []
    },
    {
      "cell_type": "code",
      "metadata": {
        "colab": {
          "base_uri": "https://localhost:8080/",
          "height": 265
        },
        "id": "HB6n3mWRFcB3",
        "outputId": "e8a66e9e-736a-4f58-922a-ab33096c8b52"
      },
      "source": [
        "X_test, y_test = readTransformGet('emnist-letters-test.csv')\n",
        "X_train, y_train = readTransformGet('emnist-letters-train.csv')"
      ],
      "execution_count": 4,
      "outputs": [
        {
          "output_type": "display_data",
          "data": {
            "image/png": "[encoded data removed]",
            "text/plain": [
              "<Figure size 432x288 with 1 Axes>"
            ]
          },
          "metadata": {
            "needs_background": "light"
          }
        }
      ]
    },
    {
      "cell_type": "code",
      "metadata": {
        "id": "Hfr6V_vsMBUg"
      },
      "source": [
        "unique_items, num_classes = np.unique(y_train, return_counts=True)\n",
        "num_classes = len(unique_items)\n",
        "y_train = np_utils.to_categorical(y_train, num_classes)\n",
        "y_test = np_utils.to_categorical(y_test, num_classes)"
      ],
      "execution_count": 5,
      "outputs": []
    },
    {
      "cell_type": "code",
      "metadata": {
        "colab": {
          "base_uri": "https://localhost:8080/"
        },
        "id": "_NcPims0GGMr",
        "outputId": "b20c9cb0-d835-4b43-d554-176bee1e5682"
      },
      "source": [
        "X_test.shape"
      ],
      "execution_count": 6,
      "outputs": [
        {
          "output_type": "execute_result",
          "data": {
            "text/plain": [
              "(14799, 28, 28, 1)"
            ]
          },
          "metadata": {},
          "execution_count": 6
        }
      ]
    },
    {
      "cell_type": "code",
      "metadata": {
        "colab": {
          "base_uri": "https://localhost:8080/"
        },
        "id": "yrH6q68XGIwH",
        "outputId": "65bee257-6a28-4496-bb4a-024af37d750d"
      },
      "source": [
        "X_train.shape"
      ],
      "execution_count": 7,
      "outputs": [
        {
          "output_type": "execute_result",
          "data": {
            "text/plain": [
              "(88799, 28, 28, 1)"
            ]
          },
          "metadata": {},
          "execution_count": 7
        }
      ]
    },
    {
      "cell_type": "code",
      "metadata": {
        "id": "vrrC3gGfPvG9"
      },
      "source": [
        "def create_keras_cnn():\n",
        "  \"\"\"\n",
        "  Return a CNN in configuration of LeNet 1998\n",
        "  \"\"\"\n",
        "  initializer = tf.keras.initializers.HeNormal()\n",
        "  return tf.keras.models.Sequential([\n",
        "      tf.keras.layers.Conv2D(8, (5,5), activation='relu', strides = (1, 1), use_bias = True, padding = 'same',input_shape =(28,28,1)), # do padding in the first layer as introduced in LeNet\n",
        "      tf.keras.layers.MaxPooling2D(pool_size = (2, 2), strides = 2),\n",
        "      tf.keras.layers.Conv2D(16, (5,5), activation='relu', use_bias = True, padding = 'valid',strides = 1),\n",
        "      tf.keras.layers.MaxPooling2D(pool_size = (2, 2), strides = 2),\n",
        "      tf.keras.layers.Flatten(),\n",
        "      tf.keras.layers.Dense(84, activation='relu'),\n",
        "      tf.keras.layers.Dense(26, activation='softmax') # we get 26 labeld classes\n",
        "  ])"
      ],
      "execution_count": 8,
      "outputs": []
    },
    {
      "cell_type": "code",
      "metadata": {
        "id": "Gw0JY1vSUAZR"
      },
      "source": [
        "LeNet = create_keras_cnn()"
      ],
      "execution_count": 9,
      "outputs": []
    },
    {
      "cell_type": "code",
      "metadata": {
        "colab": {
          "base_uri": "https://localhost:8080/"
        },
        "id": "V3XZNDavUK9_",
        "outputId": "d546fc7b-9141-451c-ed2d-fe05f99ca77e"
      },
      "source": [
        "LeNet.summary()"
      ],
      "execution_count": 10,
      "outputs": [
        {
          "output_type": "stream",
          "name": "stdout",
          "text": [
            "Model: \"sequential\"\n",
            "_________________________________________________________________\n",
            " Layer (type)                Output Shape              Param #   \n",
            "=================================================================\n",
            " conv2d (Conv2D)             (None, 28, 28, 8)         208       \n",
            "                                                                 \n",
            " max_pooling2d (MaxPooling2D  (None, 14, 14, 8)        0         \n",
            " )                                                               \n",
            "                                                                 \n",
            " conv2d_1 (Conv2D)           (None, 10, 10, 16)        3216      \n",
            "                                                                 \n",
            " max_pooling2d_1 (MaxPooling  (None, 5, 5, 16)         0         \n",
            " 2D)                                                             \n",
            "                                                                 \n",
            " flatten (Flatten)           (None, 400)               0         \n",
            "                                                                 \n",
            " dense (Dense)               (None, 84)                33684     \n",
            "                                                                 \n",
            " dense_1 (Dense)             (None, 26)                2210      \n",
            "                                                                 \n",
            "=================================================================\n",
            "Total params: 39,318\n",
            "Trainable params: 39,318\n",
            "Non-trainable params: 0\n",
            "_________________________________________________________________\n"
          ]
        }
      ]
    },
    {
      "cell_type": "code",
      "metadata": {
        "id": "T54PhbOtUlNu"
      },
      "source": [
        "initial_learning_rate = 0.01\n",
        "sgd = tf.keras.optimizers.SGD(learning_rate=initial_learning_rate)\n",
        "LeNet.compile(\n",
        "    optimizer=sgd, \n",
        "    loss='categorical_crossentropy', \n",
        "    metrics=['accuracy']\n",
        ")"
      ],
      "execution_count": 11,
      "outputs": []
    },
    {
      "cell_type": "code",
      "metadata": {
        "id": "IsIQcsDRVTJU",
        "colab": {
          "base_uri": "https://localhost:8080/"
        },
        "outputId": "e3c7da45-bb9b-4215-b23a-1beca86efd8b"
      },
      "source": [
        "epochs = 45\n",
        "decay = initial_learning_rate / epochs\n",
        "\n",
        "def lr_time_based_decay(epoch, lr):\n",
        "    return lr * 1 / (1 + decay * epoch)\n",
        "\n",
        "history = LeNet.fit(\n",
        "            X_train,\n",
        "            y_train, \n",
        "            epochs=epochs,\n",
        "            validation_data=(X_test,y_test),\n",
        "            batch_size=64,\n",
        "            callbacks=[tf.keras.callbacks.LearningRateScheduler(lr_time_based_decay, verbose=1)]\n",
        "            )"
      ],
      "execution_count": 12,
      "outputs": [
        {
          "output_type": "stream",
          "name": "stdout",
          "text": [
            "\n",
            "Epoch 00001: LearningRateScheduler setting learning rate to 0.009999999776482582.\n",
            "Epoch 1/45\n",
            "1388/1388 [==============================] - 18s 7ms/step - loss: 1.6853 - accuracy: 0.5033 - val_loss: 0.8700 - val_accuracy: 0.7336 - lr: 0.0100\n",
            "\n",
            "Epoch 00002: LearningRateScheduler setting learning rate to 0.009997778048027466.\n",
            "Epoch 2/45\n",
            "1388/1388 [==============================] - 8s 6ms/step - loss: 0.6361 - accuracy: 0.8036 - val_loss: 0.5681 - val_accuracy: 0.8201 - lr: 0.0100\n",
            "\n",
            "Epoch 00003: LearningRateScheduler setting learning rate to 0.009993336158082624.\n",
            "Epoch 3/45\n",
            "1388/1388 [==============================] - 8s 6ms/step - loss: 0.4700 - accuracy: 0.8526 - val_loss: 0.4934 - val_accuracy: 0.8475 - lr: 0.0100\n",
            "\n",
            "Epoch 00004: LearningRateScheduler setting learning rate to 0.009986678377875959.\n",
            "Epoch 4/45\n",
            "1388/1388 [==============================] - 9s 6ms/step - loss: 0.3974 - accuracy: 0.8739 - val_loss: 0.4211 - val_accuracy: 0.8649 - lr: 0.0100\n",
            "\n",
            "Epoch 00005: LearningRateScheduler setting learning rate to 0.009977808974842088.\n",
            "Epoch 5/45\n",
            "1388/1388 [==============================] - 9s 6ms/step - loss: 0.3550 - accuracy: 0.8868 - val_loss: 0.4113 - val_accuracy: 0.8674 - lr: 0.0100\n",
            "\n",
            "Epoch 00006: LearningRateScheduler setting learning rate to 0.009966735003493338.\n",
            "Epoch 6/45\n",
            "1388/1388 [==============================] - 9s 6ms/step - loss: 0.3255 - accuracy: 0.8964 - val_loss: 0.3878 - val_accuracy: 0.8717 - lr: 0.0100\n",
            "\n",
            "Epoch 00007: LearningRateScheduler setting learning rate to 0.009953463512079692.\n",
            "Epoch 7/45\n",
            "1388/1388 [==============================] - 8s 6ms/step - loss: 0.3056 - accuracy: 0.9016 - val_loss: 0.3705 - val_accuracy: 0.8812 - lr: 0.0100\n",
            "\n",
            "Epoch 00008: LearningRateScheduler setting learning rate to 0.00993800433222407.\n",
            "Epoch 8/45\n",
            "1388/1388 [==============================] - 9s 6ms/step - loss: 0.2893 - accuracy: 0.9060 - val_loss: 0.3576 - val_accuracy: 0.8811 - lr: 0.0099\n",
            "\n",
            "Epoch 00009: LearningRateScheduler setting learning rate to 0.009920368216495494.\n",
            "Epoch 9/45\n",
            "1388/1388 [==============================] - 8s 6ms/step - loss: 0.2752 - accuracy: 0.9102 - val_loss: 0.3466 - val_accuracy: 0.8895 - lr: 0.0099\n",
            "\n",
            "Epoch 00010: LearningRateScheduler setting learning rate to 0.009900566837387884.\n",
            "Epoch 10/45\n",
            "1388/1388 [==============================] - 9s 6ms/step - loss: 0.2645 - accuracy: 0.9124 - val_loss: 0.3233 - val_accuracy: 0.8954 - lr: 0.0099\n",
            "\n",
            "Epoch 00011: LearningRateScheduler setting learning rate to 0.009878614644815284.\n",
            "Epoch 11/45\n",
            "1388/1388 [==============================] - 9s 7ms/step - loss: 0.2547 - accuracy: 0.9163 - val_loss: 0.3894 - val_accuracy: 0.8725 - lr: 0.0099\n",
            "\n",
            "Epoch 00012: LearningRateScheduler setting learning rate to 0.009854526075878684.\n",
            "Epoch 12/45\n",
            "1388/1388 [==============================] - 8s 6ms/step - loss: 0.2459 - accuracy: 0.9201 - val_loss: 0.3044 - val_accuracy: 0.9032 - lr: 0.0099\n",
            "\n",
            "Epoch 00013: LearningRateScheduler setting learning rate to 0.009828317412571546.\n",
            "Epoch 13/45\n",
            "1388/1388 [==============================] - 8s 6ms/step - loss: 0.2378 - accuracy: 0.9218 - val_loss: 0.3108 - val_accuracy: 0.8951 - lr: 0.0098\n",
            "\n",
            "Epoch 00014: LearningRateScheduler setting learning rate to 0.009800005851095963.\n",
            "Epoch 14/45\n",
            "1388/1388 [==============================] - 8s 6ms/step - loss: 0.2321 - accuracy: 0.9232 - val_loss: 0.3311 - val_accuracy: 0.8938 - lr: 0.0098\n",
            "\n",
            "Epoch 00015: LearningRateScheduler setting learning rate to 0.009769611357718271.\n",
            "Epoch 15/45\n",
            "1388/1388 [==============================] - 9s 6ms/step - loss: 0.2258 - accuracy: 0.9252 - val_loss: 0.3007 - val_accuracy: 0.9020 - lr: 0.0098\n",
            "\n",
            "Epoch 00016: LearningRateScheduler setting learning rate to 0.009737153881015967.\n",
            "Epoch 16/45\n",
            "1388/1388 [==============================] - 8s 6ms/step - loss: 0.2205 - accuracy: 0.9261 - val_loss: 0.3036 - val_accuracy: 0.8987 - lr: 0.0097\n",
            "\n",
            "Epoch 00017: LearningRateScheduler setting learning rate to 0.009702655207943188.\n",
            "Epoch 17/45\n",
            "1388/1388 [==============================] - 8s 6ms/step - loss: 0.2154 - accuracy: 0.9281 - val_loss: 0.2803 - val_accuracy: 0.9097 - lr: 0.0097\n",
            "\n",
            "Epoch 00018: LearningRateScheduler setting learning rate to 0.009666138961795738.\n",
            "Epoch 18/45\n",
            "1388/1388 [==============================] - 9s 6ms/step - loss: 0.2099 - accuracy: 0.9300 - val_loss: 0.2821 - val_accuracy: 0.9077 - lr: 0.0097\n",
            "\n",
            "Epoch 00019: LearningRateScheduler setting learning rate to 0.009627628744954608.\n",
            "Epoch 19/45\n",
            "1388/1388 [==============================] - 9s 6ms/step - loss: 0.2060 - accuracy: 0.9312 - val_loss: 0.2994 - val_accuracy: 0.9020 - lr: 0.0096\n",
            "\n",
            "Epoch 00020: LearningRateScheduler setting learning rate to 0.009587149993722802.\n",
            "Epoch 20/45\n",
            "1388/1388 [==============================] - 9s 6ms/step - loss: 0.2018 - accuracy: 0.9331 - val_loss: 0.2942 - val_accuracy: 0.9051 - lr: 0.0096\n",
            "\n",
            "Epoch 00021: LearningRateScheduler setting learning rate to 0.00954472904909501.\n",
            "Epoch 21/45\n",
            "1388/1388 [==============================] - 8s 6ms/step - loss: 0.1985 - accuracy: 0.9336 - val_loss: 0.2879 - val_accuracy: 0.9068 - lr: 0.0095\n",
            "\n",
            "Epoch 00022: LearningRateScheduler setting learning rate to 0.009500394082753645.\n",
            "Epoch 22/45\n",
            "1388/1388 [==============================] - 8s 6ms/step - loss: 0.1946 - accuracy: 0.9344 - val_loss: 0.2865 - val_accuracy: 0.9078 - lr: 0.0095\n",
            "\n",
            "Epoch 00023: LearningRateScheduler setting learning rate to 0.009454173241461446.\n",
            "Epoch 23/45\n",
            "1388/1388 [==============================] - 8s 6ms/step - loss: 0.1908 - accuracy: 0.9355 - val_loss: 0.2914 - val_accuracy: 0.9031 - lr: 0.0095\n",
            "\n",
            "Epoch 00024: LearningRateScheduler setting learning rate to 0.009406097426849105.\n",
            "Epoch 24/45\n",
            "1388/1388 [==============================] - 8s 6ms/step - loss: 0.1875 - accuracy: 0.9356 - val_loss: 0.3016 - val_accuracy: 0.8992 - lr: 0.0094\n",
            "\n",
            "Epoch 00025: LearningRateScheduler setting learning rate to 0.009356197513224907.\n",
            "Epoch 25/45\n",
            "1388/1388 [==============================] - 8s 6ms/step - loss: 0.1849 - accuracy: 0.9382 - val_loss: 0.2733 - val_accuracy: 0.9119 - lr: 0.0094\n",
            "\n",
            "Epoch 00026: LearningRateScheduler setting learning rate to 0.009304506199959234.\n",
            "Epoch 26/45\n",
            "1388/1388 [==============================] - 9s 6ms/step - loss: 0.1821 - accuracy: 0.9385 - val_loss: 0.2800 - val_accuracy: 0.9085 - lr: 0.0093\n",
            "\n",
            "Epoch 00027: LearningRateScheduler setting learning rate to 0.00925105523155081.\n",
            "Epoch 27/45\n",
            "1388/1388 [==============================] - 8s 6ms/step - loss: 0.1789 - accuracy: 0.9391 - val_loss: 0.2713 - val_accuracy: 0.9097 - lr: 0.0093\n",
            "\n",
            "Epoch 00028: LearningRateScheduler setting learning rate to 0.009195880027521202.\n",
            "Epoch 28/45\n",
            "1388/1388 [==============================] - 8s 6ms/step - loss: 0.1763 - accuracy: 0.9403 - val_loss: 0.2726 - val_accuracy: 0.9111 - lr: 0.0092\n",
            "\n",
            "Epoch 00029: LearningRateScheduler setting learning rate to 0.009139015050539122.\n",
            "Epoch 29/45\n",
            "1388/1388 [==============================] - 8s 6ms/step - loss: 0.1739 - accuracy: 0.9408 - val_loss: 0.2673 - val_accuracy: 0.9138 - lr: 0.0091\n",
            "\n",
            "Epoch 00030: LearningRateScheduler setting learning rate to 0.009080496583554254.\n",
            "Epoch 30/45\n",
            "1388/1388 [==============================] - 9s 7ms/step - loss: 0.1721 - accuracy: 0.9412 - val_loss: 0.2665 - val_accuracy: 0.9152 - lr: 0.0091\n",
            "\n",
            "Epoch 00031: LearningRateScheduler setting learning rate to 0.00902036087747836.\n",
            "Epoch 31/45\n",
            "1388/1388 [==============================] - 9s 6ms/step - loss: 0.1694 - accuracy: 0.9420 - val_loss: 0.2629 - val_accuracy: 0.9152 - lr: 0.0090\n",
            "\n",
            "Epoch 00032: LearningRateScheduler setting learning rate to 0.008958646001122008.\n",
            "Epoch 32/45\n",
            "1388/1388 [==============================] - 8s 6ms/step - loss: 0.1665 - accuracy: 0.9431 - val_loss: 0.2682 - val_accuracy: 0.9122 - lr: 0.0090\n",
            "\n",
            "Epoch 00033: LearningRateScheduler setting learning rate to 0.008895389989695766.\n",
            "Epoch 33/45\n",
            "1388/1388 [==============================] - 8s 6ms/step - loss: 0.1653 - accuracy: 0.9430 - val_loss: 0.2754 - val_accuracy: 0.9096 - lr: 0.0089\n",
            "\n",
            "Epoch 00034: LearningRateScheduler setting learning rate to 0.00883063176938984.\n",
            "Epoch 34/45\n",
            "1388/1388 [==============================] - 8s 6ms/step - loss: 0.1626 - accuracy: 0.9435 - val_loss: 0.2724 - val_accuracy: 0.9127 - lr: 0.0088\n",
            "\n",
            "Epoch 00035: LearningRateScheduler setting learning rate to 0.008764412080730222.\n",
            "Epoch 35/45\n",
            "1388/1388 [==============================] - 8s 6ms/step - loss: 0.1613 - accuracy: 0.9447 - val_loss: 0.2990 - val_accuracy: 0.9047 - lr: 0.0088\n",
            "\n",
            "Epoch 00036: LearningRateScheduler setting learning rate to 0.008696770704173726.\n",
            "Epoch 36/45\n",
            "1388/1388 [==============================] - 8s 6ms/step - loss: 0.1588 - accuracy: 0.9453 - val_loss: 0.3020 - val_accuracy: 0.9040 - lr: 0.0087\n",
            "\n",
            "Epoch 00037: LearningRateScheduler setting learning rate to 0.008627748309028528.\n",
            "Epoch 37/45\n",
            "1388/1388 [==============================] - 8s 6ms/step - loss: 0.1570 - accuracy: 0.9457 - val_loss: 0.2656 - val_accuracy: 0.9142 - lr: 0.0086\n",
            "\n",
            "Epoch 00038: LearningRateScheduler setting learning rate to 0.008557387376202081.\n",
            "Epoch 38/45\n",
            "1388/1388 [==============================] - 9s 6ms/step - loss: 0.1551 - accuracy: 0.9458 - val_loss: 0.2789 - val_accuracy: 0.9088 - lr: 0.0086\n",
            "\n",
            "Epoch 00039: LearningRateScheduler setting learning rate to 0.008485730349157233.\n",
            "Epoch 39/45\n",
            "1388/1388 [==============================] - 8s 6ms/step - loss: 0.1533 - accuracy: 0.9462 - val_loss: 0.2869 - val_accuracy: 0.9070 - lr: 0.0085\n",
            "\n",
            "Epoch 00040: LearningRateScheduler setting learning rate to 0.008412819633953475.\n",
            "Epoch 40/45\n",
            "1388/1388 [==============================] - 9s 6ms/step - loss: 0.1510 - accuracy: 0.9475 - val_loss: 0.2706 - val_accuracy: 0.9101 - lr: 0.0084\n",
            "\n",
            "Epoch 00041: LearningRateScheduler setting learning rate to 0.008338697599288125.\n",
            "Epoch 41/45\n",
            "1388/1388 [==============================] - 9s 6ms/step - loss: 0.1495 - accuracy: 0.9475 - val_loss: 0.2639 - val_accuracy: 0.9155 - lr: 0.0083\n",
            "\n",
            "Epoch 00042: LearningRateScheduler setting learning rate to 0.008263408422365085.\n",
            "Epoch 42/45\n",
            "1388/1388 [==============================] - 8s 6ms/step - loss: 0.1479 - accuracy: 0.9477 - val_loss: 0.2917 - val_accuracy: 0.9074 - lr: 0.0083\n",
            "\n",
            "Epoch 00043: LearningRateScheduler setting learning rate to 0.008186996241482749.\n",
            "Epoch 43/45\n",
            "1388/1388 [==============================] - 8s 6ms/step - loss: 0.1460 - accuracy: 0.9484 - val_loss: 0.2584 - val_accuracy: 0.9188 - lr: 0.0082\n",
            "\n",
            "Epoch 00044: LearningRateScheduler setting learning rate to 0.008109505156076823.\n",
            "Epoch 44/45\n",
            "1388/1388 [==============================] - 9s 6ms/step - loss: 0.1442 - accuracy: 0.9494 - val_loss: 0.2716 - val_accuracy: 0.9126 - lr: 0.0081\n",
            "\n",
            "Epoch 00045: LearningRateScheduler setting learning rate to 0.00803098014906757.\n",
            "Epoch 45/45\n",
            "1388/1388 [==============================] - 8s 6ms/step - loss: 0.1431 - accuracy: 0.9493 - val_loss: 0.2654 - val_accuracy: 0.9155 - lr: 0.0080\n"
          ]
        }
      ]
    },
    {
      "cell_type": "code",
      "metadata": {
        "id": "FdMYBq9GPLoq",
        "colab": {
          "base_uri": "https://localhost:8080/",
          "height": 295
        },
        "outputId": "7f36ac32-417d-40e0-fa60-c58dec448632"
      },
      "source": [
        "plt.plot(history.history['accuracy'])\n",
        "plt.plot(history.history['val_accuracy'])\n",
        "plt.title('model accuracy')\n",
        "plt.ylabel('accuracy')\n",
        "plt.xlabel('epoch')\n",
        "plt.legend(['train', 'val'], loc='upper left')\n",
        "plt.show()"
      ],
      "execution_count": 13,
      "outputs": [
        {
          "output_type": "display_data",
          "data": {
            "image/png": "[encoded data removed]",
            "text/plain": [
              "<Figure size 432x288 with 1 Axes>"
            ]
          },
          "metadata": {
            "needs_background": "light"
          }
        }
      ]
    },
    {
      "cell_type": "code",
      "metadata": {
        "id": "cruKQz5FS_Sz",
        "colab": {
          "base_uri": "https://localhost:8080/",
          "height": 295
        },
        "outputId": "811b948d-00ce-400b-c42a-ad839e1c62b2"
      },
      "source": [
        "plt.plot(history.history['loss'])\n",
        "plt.plot(history.history['val_loss'])\n",
        "plt.title('model loss')\n",
        "plt.ylabel('loss')\n",
        "plt.xlabel('epoch')\n",
        "plt.legend(['train', 'val'], loc='upper left')\n",
        "plt.show()"
      ],
      "execution_count": 14,
      "outputs": [
        {
          "output_type": "display_data",
          "data": {
            "image/png": "[encoded data removed]",
            "text/plain": [
              "<Figure size 432x288 with 1 Axes>"
            ]
          },
          "metadata": {
            "needs_background": "light"
          }
        }
      ]
    },
    {
      "cell_type": "code",
      "metadata": {
        "id": "4PtnKiFNTz0t"
      },
      "source": [
        "LeNet.save('./SavedModels/LeNet.h5')"
      ],
      "execution_count": 15,
      "outputs": []
    },
    {
      "cell_type": "code",
      "metadata": {
        "id": "T2mut7SlUGVd"
      },
      "source": [
        "import tensorflowjs as tfjs"
      ],
      "execution_count": 18,
      "outputs": []
    },
    {
      "cell_type": "code",
      "metadata": {
        "id": "JPhroPQKUOH7"
      },
      "source": [
        "pip install tensorflowjs"
      ],
      "execution_count": null,
      "outputs": []
    },
    {
      "cell_type": "code",
      "metadata": {
        "id": "OlK2QFhfURM5"
      },
      "source": [
        "tfjs.converters.save_keras_model(LeNet, 'LeNet')"
      ],
      "execution_count": 19,
      "outputs": []
    },
    {
      "cell_type": "code",
      "metadata": {
        "id": "n3PdhkrZTixh"
      },
      "source": [
        ""
      ],
      "execution_count": null,
      "outputs": []
    }
  ]
}